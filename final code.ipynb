import cv2
import numpy as np
import matplotlib.pyplot as plt
from skimage.feature import hog
from sklearn.cluster import KMeans
import joblib
import xml.etree.ElementTree as ET
import os
from datetime import datetime
from tqdm import tqdm

# Configuration
IMAGE_DIR = 'D:\\dataset\\DatasetRFVOCdevkit\\VOC2007\\bbox_preview'
ANNOTATION_DIR = 'D:\\dataset\\DatasetRFVOCdevkit\\VOC2007\\Annotations'
IMG_SIZE = 128
MAX_SAMPLES = 1000
BATCH_SIZE = 50

def safe_image_read(path):
    try:
        img = cv2.imread(path)
        return img if img is not None else None
    except Exception as e:
        print(f"Error reading {path}: {str(e)}")
        return None

def process_annotations(annotation_path):
    try:
        tree = ET.parse(annotation_path)
        root = tree.getroot()
        objects = []
        
        for obj in root.findall('object'):
            name = obj.find('name').text.lower() if obj.find('name') is not None else ''
            bndbox = obj.find('bndbox')
            if bndbox is None:
                continue
                
            try:
                coords = {
                    'xmin': int(bndbox.find('xmin').text),
                    'ymin': int(bndbox.find('ymin').text),
                    'xmax': int(bndbox.find('xmax').text),
                    'ymax': int(bndbox.find('ymax').text)
                }
                objects.append({'name': name, 'coords': coords})
            except (AttributeError, ValueError):
                continue
                
        return objects
    except Exception as e:
        print(f"Error parsing {annotation_path}: {str(e)}")
        return []

def load_data_in_batches(image_dir, annotation_dir):
    all_tumors = []
    filenames = [f for f in os.listdir(image_dir) if f.endswith('.jpg')][:MAX_SAMPLES]
    
    for i in tqdm(range(0, len(filenames), BATCH_SIZE)):
        batch_files = filenames[i:i + BATCH_SIZE]
        
        for filename in batch_files:
            img_path = os.path.join(image_dir, filename)
            base_name = os.path.splitext(filename)[0]
            annotation_path = os.path.join(annotation_dir, base_name + '.xml')
            
            if not os.path.exists(annotation_path):
                continue
                
            img = safe_image_read(img_path)
            if img is None:
                continue
                
            objects = process_annotations(annotation_path)
            for obj in objects:
                if obj['name'] not in ['tumor', 'cancer']:
                    continue
                    
                coords = obj['coords']
                try:
                    tumor_img = img[coords['ymin']:coords['ymax'], coords['xmin']:coords['xmax']]
                    if tumor_img.size == 0:
                        continue
                        
                    # Process tumor
                    gray = cv2.cvtColor(tumor_img, cv2.COLOR_BGR2GRAY)
                    resized = cv2.resize(gray, (IMG_SIZE, IMG_SIZE))
                    edges = cv2.Canny(gray, 100, 200)
                    
                    # Calculate properties
                    area = (coords['xmax']-coords['xmin'])*(coords['ymax']-coords['ymin'])
                    perimeter = cv2.arcLength(np.array([
                        [coords['xmin'], coords['ymin']],
                        [coords['xmax'], coords['ymin']],
                        [coords['xmax'], coords['ymax']],
                        [coords['xmin'], coords['ymax']]
                    ]), True)
                    circularity = 4*np.pi*area/(perimeter**2) if perimeter > 0 else 0
                    
                    all_tumors.append({
                        'original_img': img.copy(),
                        'tumor_img': tumor_img,
                        'processed': resized,
                        'edges': edges,
                        'area': area,
                        'circularity': circularity,
                        'location': (coords['xmin'], coords['ymin'], coords['xmax'], coords['ymax']),
                        'date_detected': datetime.now().strftime("%Y-%m-%d")
                    })
                    
                except Exception as e:
                    print(f"Error processing tumor in {filename}: {str(e)}")
                    continue
                    
    return all_tumors

def analyze_tumors(tumor_data):
    if not tumor_data:
        raise ValueError("No tumor data available for analysis")
    
    # Feature extraction
    features = []
    for tumor in tumor_data:
        try:
            hog_feat = hog(tumor['processed'], pixels_per_cell=(8,8), cells_per_block=(2,2))
            features.append(np.concatenate([
                hog_feat,
                np.array([tumor['area']/1000, tumor['circularity']])
            ]))
        except Exception as e:
            print(f"Error extracting features: {str(e)}")
            continue
    
    # Clustering
    kmeans = KMeans(n_clusters=3, random_state=42, n_init=10)
    severity = kmeans.fit_predict(features)
    
    # Predictions
    growth_rate = np.array([(t['area']/500) + np.random.normal(0, 0.5) for t in tumor_data])
    life_expectancy = np.array([10 - (s*2) + np.random.normal(0, 0.5) for s in severity])
    
    # Update tumor data
    for i, tumor in enumerate(tumor_data):
        tumor.update({
            'severity': int(severity[i]),
            'growth_rate': float(max(0.1, growth_rate[i])),
            'life_expectancy': float(max(1, life_expectancy[i])),
            'cancerous': True
        })
    
    return tumor_data, kmeans

def visualize_tumor(tumor):
    plt.figure(figsize=(15, 6))
    
    # Original image with tumor marked
    plt.subplot(1, 3, 1)
    marked_img = tumor['original_img'].copy()
    xmin, ymin, xmax, ymax = tumor['location']
    cv2.rectangle(marked_img, (xmin, ymin), (xmax, ymax), (0, 255, 0), 2)
    plt.imshow(cv2.cvtColor(marked_img, cv2.COLOR_BGR2RGB))
    plt.title("Original Image\n(Tumor Marked)")
    plt.axis('off')
    
    # Tumor ROI
    plt.subplot(1, 3, 2)
    plt.imshow(cv2.cvtColor(tumor['tumor_img'], cv2.COLOR_BGR2RGB))
    plt.title(f"Tumor ROI\nArea: {tumor['area']:.1f} px²\nCircularity: {tumor['circularity']:.2f}")
    plt.axis('off')
    
    # Edge detection
    plt.subplot(1, 3, 3)
    plt.imshow(tumor['edges'], cmap='gray')
    plt.title(f"Severity: {tumor['severity']+1}/3\nGrowth: {tumor['growth_rate']:.2f} mm/yr\nLife Expectancy: {tumor['life_expectancy']:.1f} yrs")
    plt.axis('off')
    
    plt.tight_layout()
    plt.show()

def generate_report(tumor_data, sample_index=0):
    sample = tumor_data[sample_index % len(tumor_data)]
    
    report = f"""
    TUMOR ANALYSIS REPORT
    ---------------------
    Date: {sample['date_detected']}
    
    Characteristics:
    - Size: {sample['area']:.1f} pixels
    - Circularity: {sample['circularity']:.3f}
    - Severity Level: {sample['severity'] + 1}/3
    
    Predictions:
    - Cancerous: {'Yes' if sample['cancerous'] else 'No'}
    - Growth Rate: {sample['growth_rate']:.2f} mm/year
    - Estimated Life Expectancy: {sample['life_expectancy']:.1f} years
    
    Note: These predictions are based on morphological analysis.
    Consult an oncologist for clinical interpretation.
    """
    
    return report

def main():
    print("Starting tumor analysis pipeline...")
    
    try:
        # Load data
        print("\nLoading dataset...")
        tumors = load_data_in_batches(IMAGE_DIR, ANNOTATION_DIR)
        if not tumors:
            print("Error: No tumors found in the dataset")
            return
        
        # Analyze tumors
        print("\nAnalyzing tumor characteristics...")
        analyzed_tumors, model = analyze_tumors(tumors)
        
        # Generate report
        report = generate_report(analyzed_tumors)
        print(report)
        
        # Visualize results
        print("\nDisplaying tumor visualization...")
        visualize_tumor(analyzed_tumors[0])
        
        # Save model
        joblib.dump(model, 'tumor_model.pkl')
        print("\nModel saved successfully.")
        
    except Exception as e:
        print(f"\nPipeline failed: {str(e)}")
        print("Check your data and try again")

if __name__ == "__main__":
    main()
